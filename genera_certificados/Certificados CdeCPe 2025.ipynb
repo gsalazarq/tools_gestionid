{
 "cells": [
  {
   "cell_type": "code",
   "execution_count": 22,
   "id": "2f56432d",
   "metadata": {},
   "outputs": [],
   "source": [
    "## Genera certificados considerando un archivo principal y otro de referencia. \n",
    "## El archivo de referencia contiene todos los valores de DNI_ID que deben recibir certificado\n",
    "\n",
    "\n",
    "import pandas as pd\n",
    "from docxtpl import DocxTemplate\n",
    "import subprocess\n",
    "import os\n",
    "\n",
    "# Importar los archivos\n",
    "folder_data = \"/home/justus/Documentos/dev/nogit-data/\"\n",
    "#tabla_cluberos2025  = pd.read_csv(\"/home/justus/Documentos/dev/nogit-data/certificados_edicion_2025/cluberos_2025_rev_ok_250725_Consolidado.csv\")\n",
    "tabla_cluberos2025  = pd.read_excel(folder_data + \"certificados_edicion_2025/cluberos_2025_rev_ok_250725_Consolidado.xlsx\")\n",
    "tabla_encuesta_cierre = pd.read_excel(folder_data + \"certificados_edicion_2025/encuesta_cierre_cdecpe2025.xlsx\")\n",
    "\n",
    "## Recuperamos los DNI como string \n",
    "# Suponiendo que ya cargaste y limpiaste los DNI\n",
    "tabla_cluberos2025[\"DNI_ID\"] = tabla_cluberos2025[\"DNI_ID\"].astype(str).str.replace(\".0\", \"\", regex=False)\n",
    "tabla_cluberos2025[\"Application_ID\"] = tabla_cluberos2025[\"Application_ID\"].astype(str)\n",
    "tabla_cluberos2025[\"User_ID\"] = tabla_cluberos2025[\"User_ID\"].astype(str)\n",
    "\n",
    "tabla_encuesta_cierre[\"DNI_ID\"] = tabla_encuesta_cierre[\"DNI_ID\"].astype(str).str.replace(\".0\", \"\", regex=False)\n",
    "tabla_encuesta_cierre[\"Teléfono\"] = tabla_encuesta_cierre[\"Teléfono\"].astype(str).str.replace(\".0\", \"\", regex=False)\n",
    "\n",
    "## Esta sección agrega una nueva columna que son los que recibirán certificado a través del nombre completo\n",
    "# Hacer merge solo con los DNI que existen en ambos (inner join)\n",
    "df_combinado = pd.merge(\n",
    "    tabla_cluberos2025,\n",
    "    tabla_encuesta_cierre[[\"DNI_ID\", \"Nombre_certificado\"]],  # aquí la columna que quieres jalar\n",
    "    on=\"DNI_ID\",\n",
    "    how=\"outer\"\n",
    ")\n",
    "\n",
    "## Finalmenten genera un excel con todos los que recibirán certificado \n",
    "# df_combinado ahora contiene todas las columnas de tabla_cluberos2025\n",
    "# más la columna de tabla_encuesta_cierre que seleccionaste\n",
    "df_combinado.to_excel(\"certificados_final_cluberos2025.xlsx\", index=False)\n",
    "\n"
   ]
  },
  {
   "cell_type": "code",
   "execution_count": 23,
   "id": "f80fd30f",
   "metadata": {},
   "outputs": [],
   "source": [
    "## generación de certificados \n",
    "\n",
    "df_filtrado = df_combinado[df_combinado[\"Nombre_certificado\"].notna()]\n",
    "df_filtrado_sin_duplicados = df_filtrado.drop_duplicates(subset=[\"Nombre_certificado\"], keep='last')\n",
    "\n",
    "nombres = df_filtrado_sin_duplicados[\"Nombre_certificado\"].tolist()\n",
    "correos = df_filtrado_sin_duplicados[\"Email\"].tolist()\n",
    "\n",
    "list_email = []\n",
    "for i, row_fil in df_filtrado_sin_duplicados.iterrows():\n",
    "    doc = DocxTemplate(\"certificado_plantilla.docx\")\n",
    "    context = row_fil.to_dict()  # Diccionario con los valores de la fila\n",
    "    doc.render(context)\n",
    "    name = context[\"Nombre_certificado\"]\n",
    "    email = context[\"Email\"]\n",
    "    nombre = context[\"First_Name\"]\n",
    "\n",
    "    filename_docx = f\"certificado_e2025_{name}_{email}.docx\"\n",
    "    filename_pdf = f\"certificado_e2025_{name}_{email}.pdf\"\n",
    "    list_email.append([nombre, email])  # crea la lista de correos\n",
    "    \n",
    "    doc.save(filename_docx)\n",
    "\n",
    "    # Convertir a PDF (si tienes LibreOffice instalado)\n",
    "    subprocess.run([\"libreoffice\", \"--headless\", \"--convert-to\", \"pdf\", filename_docx])\n",
    "    os.rename(filename_docx.replace(\".docx\", \".pdf\"), filename_pdf)"
   ]
  }
 ],
 "metadata": {
  "kernelspec": {
   "display_name": "Python 3 (ipykernel)",
   "language": "python",
   "name": "python3"
  },
  "language_info": {
   "codemirror_mode": {
    "name": "ipython",
    "version": 3
   },
   "file_extension": ".py",
   "mimetype": "text/x-python",
   "name": "python",
   "nbconvert_exporter": "python",
   "pygments_lexer": "ipython3",
   "version": "3.8.8"
  }
 },
 "nbformat": 4,
 "nbformat_minor": 5
}
