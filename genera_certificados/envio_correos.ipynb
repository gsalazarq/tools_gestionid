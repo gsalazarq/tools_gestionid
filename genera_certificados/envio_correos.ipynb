{
 "cells": [
  {
   "cell_type": "code",
   "execution_count": null,
   "id": "e6ad1d83",
   "metadata": {},
   "outputs": [],
   "source": [
    "import smtplib\n",
    "from email.message import EmailMessage\n",
    "\n",
    "contrasena = #\n",
    "smtp_protocol = #\n",
    "\n",
    "# Configuración del correo\n",
    "remitente = #NO SUBIR PASS AL GIT  \n",
    "destinatario = #NO SUBIR PASS AL GIT \n",
    "asunto = \"[CdeC2025] Certificado de participación\"\n",
    "cuerpo = \"Estimado/a\" + {First_Name} \",\\n\" +\n",
    "\n",
    "\"Adjunto encontrará su certificado de participación correspondiente a la edición 2025 de los Clubes de Ciencia Perú.\\n\" +\n",
    "\"Cualquier consulta adicional, no dude en escribirnos.\\n\"\n",
    "\n",
    "\"Atentamente,\\n\"+  \n",
    "\"Equipo de Clubes de Ciencia Perú\". \n",
    "\n",
    "\n",
    "\n",
    "# Crear mensaje\n",
    "msg = EmailMessage()\n",
    "msg['From'] = remitente\n",
    "msg['Subject'] = asunto\n",
    "\n",
    "msg['To'] = destinatario\n",
    "msg.set_content(cuerpo)\n",
    "\n",
    "# Adjuntar archivo\n",
    "archivo = \"certificado_e2025_1.pdf\"  # reemplaza con tu archivo\n",
    "with open(archivo, 'rb') as f:\n",
    "    file_data = f.read()\n",
    "    file_name = f.name\n",
    "\n",
    "msg.add_attachment(file_data, maintype='application', subtype='pdf', filename=file_name)\n",
    "\n",
    "# Enviar correo usando Gmail\n",
    "with smtplib.SMTP_SSL(smpt_protocol, 465) as smtp:\n",
    "    smtp.login(remitente, contrasena)\n",
    "    smtp.send_message(msg)\n",
    "\n",
    "print(\"Correo enviado con éxito ✅\")\n",
    "\n"
   ]
  }
 ],
 "metadata": {
  "kernelspec": {
   "display_name": "Python 3 (ipykernel)",
   "language": "python",
   "name": "python3"
  },
  "language_info": {
   "codemirror_mode": {
    "name": "ipython",
    "version": 3
   },
   "file_extension": ".py",
   "mimetype": "text/x-python",
   "name": "python",
   "nbconvert_exporter": "python",
   "pygments_lexer": "ipython3",
   "version": "3.8.8"
  }
 },
 "nbformat": 4,
 "nbformat_minor": 5
}
