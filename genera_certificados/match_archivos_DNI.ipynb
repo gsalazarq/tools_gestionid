{
 "cells": [
  {
   "cell_type": "code",
   "execution_count": 1,
   "id": "1a874fb9",
   "metadata": {},
   "outputs": [],
   "source": [
    "import pandas as pd\n",
    "import numpy as np\n",
    "import sys\n",
    "\n",
    "#file_princial = sys.argv[1]\n",
    "#file_referencia = sys.argv[2]\n",
    "\n",
    "folder = \"/home/justus/Documentos/dev/nogit-data/\"\n",
    "\n",
    "#file_princial = \"cluberos_2025_rev_ok_250725_Consolidado.csv\"\n",
    "file_princial = folder + \"cluberos_2025_rev_ok_250725_Consolidado_con_encuesta_inicio.xlsx\"\n",
    "file_referencia = folder +  \"encuesta_cierre_cdecpe2025.xlsx\"\n",
    "\n",
    "#etiqueta_file = int(sys.argv[3])\n",
    "#nombre_file_final = int(sys.argv[4])\n",
    "nombre_file_final = folder + \"cluberos_2025_rev_ok_250725_Consolidado_con_encuesta_inicio_final.xlsx\"\n",
    "\n",
    "\n",
    "# Importar los archivos CSV\n",
    "#db_principal_temp  = pd.read_csv(file_princial)\n",
    "db_principal_temp  = pd.read_excel(file_princial)\n",
    "db_referencia_temp  = pd.read_excel(file_referencia)\n",
    "\n",
    "\n",
    "\n",
    "## Variables del archivo de referencia\n",
    "columna_condicion = \"Encuesta cierre\"\n",
    "valor_condicion = \"encuesta_cierre_ok\"\n",
    "columna_interseccion = \"DNI_ID\" \n",
    "\n",
    "## Etiquetas a aplicar al archivo principal \n",
    "#nombre_columna_etiquetado = \"Encuesta_inicio\"\n",
    "nombre_columna_etiquetado = \"Encuesta cierre\"\n",
    "Etiqueta1 = \"encuesta_cierre_ok\"\n",
    "\n",
    "###############################\n",
    "\n",
    "# Suponiendo que ya cargaste y limpiaste los DNI\n",
    "db_referencia_temp[\"DNI_ID\"] = db_referencia_temp[\"DNI_ID\"].astype(str).str.replace(\".0\", \"\", regex=False)\n",
    "db_principal_temp[\"DNI_ID\"] = db_principal_temp[\"DNI_ID\"].astype(str).str.replace(\".0\", \"\", regex=False)\n",
    "#eliminamos los duplicados\n",
    "db_referencia = db_referencia_temp.drop_duplicates(subset=[\"DNI_ID\"], keep='last')\n",
    "db_principal  = db_principal_temp.drop_duplicates(subset=[\"DNI_ID\"], keep='last')\n",
    "\n",
    "\n",
    "#obtengo como LISTA los valores de la columna \"columna_interseccion\" filtrada por la condición \"columna_condicion\"\n",
    "df_condicion = db_referencia.loc[db_referencia[columna_condicion] == valor_condicion , columna_interseccion]\n",
    "#lo convierto en una lista\n",
    "arr = df_condicion.tolist()\n",
    "\n",
    "\n",
    "##ETIQUETADO\n",
    "#etiquetado en la columna_a_filtrar = \"Número de Contrato\" en el archivo db_principal\n",
    "\n",
    "db_principal.loc[db_principal[columna_interseccion].isin(arr), nombre_columna_etiquetado] = Etiqueta1\n",
    "\n",
    "\n",
    "# Guardar a Excel\n",
    "db_principal.to_excel(nombre_file_final, index=False)\n"
   ]
  },
  {
   "cell_type": "code",
   "execution_count": null,
   "id": "0916a0db",
   "metadata": {},
   "outputs": [],
   "source": [
    "db_referencia"
   ]
  }
 ],
 "metadata": {
  "kernelspec": {
   "display_name": "Python 3 (ipykernel)",
   "language": "python",
   "name": "python3"
  },
  "language_info": {
   "codemirror_mode": {
    "name": "ipython",
    "version": 3
   },
   "file_extension": ".py",
   "mimetype": "text/x-python",
   "name": "python",
   "nbconvert_exporter": "python",
   "pygments_lexer": "ipython3",
   "version": "3.8.8"
  }
 },
 "nbformat": 4,
 "nbformat_minor": 5
}
